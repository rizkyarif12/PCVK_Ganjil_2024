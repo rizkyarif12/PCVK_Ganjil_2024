{
  "nbformat": 4,
  "nbformat_minor": 0,
  "metadata": {
    "colab": {
      "provenance": [],
      "authorship_tag": "ABX9TyPZo18G2LSXwLatCwLbu4kQ",
      "include_colab_link": true
    },
    "kernelspec": {
      "name": "python3",
      "display_name": "Python 3"
    },
    "language_info": {
      "name": "python"
    }
  },
  "cells": [
    {
      "cell_type": "markdown",
      "metadata": {
        "id": "view-in-github",
        "colab_type": "text"
      },
      "source": [
        "<a href=\"https://colab.research.google.com/github/rizkyarif12/PCVK_Ganjil_2024/blob/main/week5.ipynb\" target=\"_parent\"><img src=\"https://colab.research.google.com/assets/colab-badge.svg\" alt=\"Open In Colab\"/></a>"
      ]
    },
    {
      "cell_type": "markdown",
      "source": [
        "# Tugas Praktikum"
      ],
      "metadata": {
        "id": "l5W0wN6i76t8"
      }
    },
    {
      "cell_type": "markdown",
      "source": [
        "##1. Buat Gamma Correction sesuai dengan petunjuk berikut:\n",
        "Percobaan ini akan meminta anda membuat Gamma Correction. Pada percobaan ini, nilai Gamma akan diset dengan meminta masukan dari pengguna. Berikut adalah kode untuk meminta masukan nilai dari pengguna. Lanjutkan kode tersebut dengan membuat image dengan gamma correction sesuai rumus yang telah diberikan."
      ],
      "metadata": {
        "id": "Z6jkdr8Q79YI"
      }
    },
    {
      "cell_type": "code",
      "source": [],
      "metadata": {
        "id": "My4JMtu98OCO"
      },
      "execution_count": null,
      "outputs": []
    }
  ]
}